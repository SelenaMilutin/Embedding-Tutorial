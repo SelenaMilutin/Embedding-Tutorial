{
 "cells": [
  {
   "cell_type": "code",
   "execution_count": 1,
   "metadata": {},
   "outputs": [
    {
     "name": "stdout",
     "output_type": "stream",
     "text": [
      "dict_keys(['version', 'data'])\n"
     ]
    }
   ],
   "source": [
    "import json\n",
    "from datasets import load_dataset\n",
    "# Specify the path to the JSON file\n",
    "file_path = 'datasets/squad-sr-lat.json'\n",
    "\n",
    "# Open the JSON file and load its contents\n",
    "with open(file_path, 'r', encoding='utf8') as file:\n",
    "    data = json.load(file)\n",
    "\n",
    "# Now, 'data' contains the parsed JSON data as a Python dictionary\n",
    "print(data.keys())\n"
   ]
  },
  {
   "cell_type": "code",
   "execution_count": 2,
   "metadata": {},
   "outputs": [],
   "source": [
    "from datasets import Dataset, DatasetDict\n",
    "sentence1 = []\n",
    "sentence2 = []\n",
    "data_for_eval = {\n",
    "    'id': [],\n",
    "    'title': [],\n",
    "    'context': [],\n",
    "    'question': [],\n",
    "    'answers': []\n",
    "}\n",
    "i = 1\n",
    "for article in data['data'][:1]:\n",
    "    title = article['title']\n",
    "    for paragraph in article['paragraphs']:\n",
    "        context = paragraph['context']\n",
    "        for qa_pair in paragraph['qas']:\n",
    "            question = qa_pair['question']\n",
    "            data_for_answer = {\n",
    "                \"text\": [],\n",
    "                'answer_start': []\n",
    "            }\n",
    "            for answer in qa_pair['answers']:\n",
    "                short_answer = answer['text']\n",
    "                answer_start = answer['answer_start']\n",
    "                sentence1.append(question)\n",
    "                sentence2.append(short_answer)\n",
    "                data_for_answer['text'].append(short_answer)\n",
    "                data_for_answer['answer_start'].append(answer_start)\n",
    "            data_for_eval['id'].append(i)\n",
    "            data_for_eval['title'].append(title)\n",
    "            data_for_eval['context'].append(context)\n",
    "            data_for_eval['question'].append(question)\n",
    "            data_for_eval['answers'].append(data_for_answer)\n",
    "            i += 1\n",
    "                # print(answer)\n",
    "dataset_for_eval = Dataset.from_dict(data_for_eval)"
   ]
  },
  {
   "cell_type": "code",
   "execution_count": null,
   "metadata": {},
   "outputs": [],
   "source": [
    "prompt = \"\"\"\n",
    "You are a hepfull question-answering assistent who will receive a request in a specific format.\n",
    "You will recieve a string input in the following format:\n",
    "context: `Some text`\n",
    "question: `question that needs an answer`\n",
    "\n",
    "Based only on the provided context, provide an answer to the given question. \n",
    "If you can't find the answer based on the context, return: \"The answer does not exist in the provided context\" OR return an empty string.\n",
    "The returned answer should be a Python dictionary structuredthe same as an example below:\n",
    "{ \n",
    "'text': ['France', '  France'],\n",
    "'answer_start': [35, 33]\n",
    "}\n",
    "\"\"\""
   ]
  },
  {
   "cell_type": "code",
   "execution_count": null,
   "metadata": {},
   "outputs": [],
   "source": []
  },
  {
   "cell_type": "code",
   "execution_count": null,
   "metadata": {},
   "outputs": [],
   "source": []
  },
  {
   "cell_type": "code",
   "execution_count": null,
   "metadata": {},
   "outputs": [],
   "source": []
  },
  {
   "cell_type": "code",
   "execution_count": null,
   "metadata": {},
   "outputs": [],
   "source": []
  },
  {
   "cell_type": "code",
   "execution_count": null,
   "metadata": {},
   "outputs": [],
   "source": []
  }
 ],
 "metadata": {
  "kernelspec": {
   "display_name": ".venv",
   "language": "python",
   "name": "python3"
  },
  "language_info": {
   "codemirror_mode": {
    "name": "ipython",
    "version": 3
   },
   "file_extension": ".py",
   "mimetype": "text/x-python",
   "name": "python",
   "nbconvert_exporter": "python",
   "pygments_lexer": "ipython3",
   "version": "3.10.14"
  }
 },
 "nbformat": 4,
 "nbformat_minor": 2
}
