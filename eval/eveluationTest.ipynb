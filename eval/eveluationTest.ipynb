{
 "cells": [
  {
   "cell_type": "code",
   "execution_count": 1,
   "metadata": {},
   "outputs": [
    {
     "name": "stderr",
     "output_type": "stream",
     "text": [
      "/home/selena/sele/Embedding-Tutorial/.venv/lib/python3.10/site-packages/sentence_transformers/cross_encoder/CrossEncoder.py:11: TqdmExperimentalWarning: Using `tqdm.autonotebook.tqdm` in notebook mode. Use `tqdm.tqdm` instead to force console mode (e.g. in jupyter console)\n",
      "  from tqdm.autonotebook import tqdm, trange\n"
     ]
    },
    {
     "data": {
      "application/vnd.jupyter.widget-view+json": {
       "model_id": "dd455ea5f23a43ec8dfc6b0d569395c6",
       "version_major": 2,
       "version_minor": 0
      },
      "text/plain": [
       "modules.json:   0%|          | 0.00/349 [00:00<?, ?B/s]"
      ]
     },
     "metadata": {},
     "output_type": "display_data"
    },
    {
     "data": {
      "application/vnd.jupyter.widget-view+json": {
       "model_id": "7fff042b780546e595daf1aeb860498c",
       "version_major": 2,
       "version_minor": 0
      },
      "text/plain": [
       "config_sentence_transformers.json:   0%|          | 0.00/116 [00:00<?, ?B/s]"
      ]
     },
     "metadata": {},
     "output_type": "display_data"
    },
    {
     "data": {
      "application/vnd.jupyter.widget-view+json": {
       "model_id": "8f3da4bd8e1a4e79b1afacf327970f3f",
       "version_major": 2,
       "version_minor": 0
      },
      "text/plain": [
       "README.md:   0%|          | 0.00/10.6k [00:00<?, ?B/s]"
      ]
     },
     "metadata": {},
     "output_type": "display_data"
    },
    {
     "data": {
      "application/vnd.jupyter.widget-view+json": {
       "model_id": "3a84bea973fb4f0fa485fa270f583904",
       "version_major": 2,
       "version_minor": 0
      },
      "text/plain": [
       "sentence_bert_config.json:   0%|          | 0.00/53.0 [00:00<?, ?B/s]"
      ]
     },
     "metadata": {},
     "output_type": "display_data"
    },
    {
     "data": {
      "application/vnd.jupyter.widget-view+json": {
       "model_id": "3552caba57d2455db10d2839d5f7f89d",
       "version_major": 2,
       "version_minor": 0
      },
      "text/plain": [
       "config.json:   0%|          | 0.00/571 [00:00<?, ?B/s]"
      ]
     },
     "metadata": {},
     "output_type": "display_data"
    },
    {
     "data": {
      "application/vnd.jupyter.widget-view+json": {
       "model_id": "2443be947b5148d2a40def036ef98b58",
       "version_major": 2,
       "version_minor": 0
      },
      "text/plain": [
       "model.safetensors:   0%|          | 0.00/438M [00:00<?, ?B/s]"
      ]
     },
     "metadata": {},
     "output_type": "display_data"
    },
    {
     "data": {
      "application/vnd.jupyter.widget-view+json": {
       "model_id": "af79cdb45ae64bfe955b28049204b77e",
       "version_major": 2,
       "version_minor": 0
      },
      "text/plain": [
       "tokenizer_config.json:   0%|          | 0.00/363 [00:00<?, ?B/s]"
      ]
     },
     "metadata": {},
     "output_type": "display_data"
    },
    {
     "data": {
      "application/vnd.jupyter.widget-view+json": {
       "model_id": "048e019baef74a9e8d044d3f9e920580",
       "version_major": 2,
       "version_minor": 0
      },
      "text/plain": [
       "vocab.txt:   0%|          | 0.00/232k [00:00<?, ?B/s]"
      ]
     },
     "metadata": {},
     "output_type": "display_data"
    },
    {
     "data": {
      "application/vnd.jupyter.widget-view+json": {
       "model_id": "4df901c3f776419eb506730b61907c0f",
       "version_major": 2,
       "version_minor": 0
      },
      "text/plain": [
       "tokenizer.json:   0%|          | 0.00/466k [00:00<?, ?B/s]"
      ]
     },
     "metadata": {},
     "output_type": "display_data"
    },
    {
     "data": {
      "application/vnd.jupyter.widget-view+json": {
       "model_id": "2343c21a599647918ddd5a74ac63f4a0",
       "version_major": 2,
       "version_minor": 0
      },
      "text/plain": [
       "special_tokens_map.json:   0%|          | 0.00/239 [00:00<?, ?B/s]"
      ]
     },
     "metadata": {},
     "output_type": "display_data"
    },
    {
     "data": {
      "application/vnd.jupyter.widget-view+json": {
       "model_id": "4e93c8de1ff043e3b1fc5e93f3f9ac0e",
       "version_major": 2,
       "version_minor": 0
      },
      "text/plain": [
       "1_Pooling/config.json:   0%|          | 0.00/190 [00:00<?, ?B/s]"
      ]
     },
     "metadata": {},
     "output_type": "display_data"
    },
    {
     "data": {
      "application/vnd.jupyter.widget-view+json": {
       "model_id": "b232f44b9f24469da12d1169598b6f79",
       "version_major": 2,
       "version_minor": 0
      },
      "text/plain": [
       "Downloading readme:   0%|          | 0.00/4.78k [00:00<?, ?B/s]"
      ]
     },
     "metadata": {},
     "output_type": "display_data"
    },
    {
     "data": {
      "application/vnd.jupyter.widget-view+json": {
       "model_id": "15763374973e4c02af05038149a76e6d",
       "version_major": 2,
       "version_minor": 0
      },
      "text/plain": [
       "Downloading data:   0%|          | 0.00/35.0M [00:00<?, ?B/s]"
      ]
     },
     "metadata": {},
     "output_type": "display_data"
    },
    {
     "data": {
      "application/vnd.jupyter.widget-view+json": {
       "model_id": "9be6e00ab30249dab1785f2cb17da038",
       "version_major": 2,
       "version_minor": 0
      },
      "text/plain": [
       "Generating train split:   0%|          | 0/404290 [00:00<?, ? examples/s]"
      ]
     },
     "metadata": {},
     "output_type": "display_data"
    },
    {
     "name": "stdout",
     "output_type": "stream",
     "text": [
      "quora-duplicates-dev_max_ap\n",
      "0.760277070888393\n"
     ]
    }
   ],
   "source": [
    "from sentence_transformers import SentenceTransformer\n",
    "from sentence_transformers.evaluation import BinaryClassificationEvaluator\n",
    "from datasets import load_dataset\n",
    "\n",
    "# Load a model\n",
    "model = SentenceTransformer('all-mpnet-base-v2')\n",
    "\n",
    "# Load a dataset with two text columns and a class label column (https://huggingface.co/datasets/sentence-transformers/quora-duplicates)\n",
    "eval_dataset = load_dataset(\"sentence-transformers/quora-duplicates\", \"pair-class\", split=\"train[-1000:]\")\n",
    "\n",
    "# Initialize the evaluator\n",
    "binary_acc_evaluator = BinaryClassificationEvaluator(\n",
    "    sentences1=eval_dataset[\"sentence1\"],\n",
    "    sentences2=eval_dataset[\"sentence2\"],\n",
    "    labels=eval_dataset[\"label\"],\n",
    "    name=\"quora-duplicates-dev\",\n",
    ")\n",
    "results = binary_acc_evaluator(model)\n",
    "'''\n",
    "Binary Accuracy Evaluation of the model on the quora-duplicates-dev dataset:\n",
    "Accuracy with Cosine-Similarity:           81.60    (Threshold: 0.8352)\n",
    "F1 with Cosine-Similarity:                 75.27    (Threshold: 0.7715)\n",
    "Precision with Cosine-Similarity:          65.81\n",
    "Recall with Cosine-Similarity:             87.89\n",
    "Average Precision with Cosine-Similarity:  76.03\n",
    "\n",
    "Accuracy with Dot-Product:           81.60  (Threshold: 0.8352)\n",
    "F1 with Dot-Product:                 75.27  (Threshold: 0.7715)\n",
    "Precision with Dot-Product:          65.81\n",
    "Recall with Dot-Product:             87.89\n",
    "Average Precision with Dot-Product:  76.03\n",
    "\n",
    "Accuracy with Manhattan-Distance:           81.50   (Threshold: 12.0727)\n",
    "F1 with Manhattan-Distance:                 74.97   (Threshold: 15.2269)\n",
    "Precision with Manhattan-Distance:          63.89\n",
    "Recall with Manhattan-Distance:             90.68\n",
    "Average Precision with Manhattan-Distance:  75.66\n",
    "\n",
    "Accuracy with Euclidean-Distance:           81.60   (Threshold: 0.5741)\n",
    "F1 with Euclidean-Distance:                 75.27   (Threshold: 0.6760)\n",
    "Precision with Euclidean-Distance:          65.81\n",
    "Recall with Euclidean-Distance:             87.89\n",
    "Average Precision with Euclidean-Distance:  76.03\n",
    "'''\n",
    "print(binary_acc_evaluator.primary_metric)\n",
    "# => \"quora-duplicates-dev_max_ap\"\n",
    "print(results[binary_acc_evaluator.primary_metric])\n",
    "# => 0.760277070888393"
   ]
  },
  {
   "cell_type": "code",
   "execution_count": 16,
   "metadata": {},
   "outputs": [
    {
     "name": "stdout",
     "output_type": "stream",
     "text": [
      "Dataset: Dataset({\n",
      "    features: ['sentence1', 'sentence2', 'label'],\n",
      "    num_rows: 1000\n",
      "})\n",
      "Train examples: 0\n",
      "Test examples: 1000\n",
      "['Is it ethical to list a minority race during college admissions when I am only 1/8?', 'Which app is the best educational app?', 'How are resources allocated in a market economy? How are resources used in a market economy?', 'Is India still a British dominion?', \"Is it bad that my girlfriend and I don't like the same music?\", 'What are some mind-blowing facts about scientists / inventors?', \"Would Hillary get women's vote just because she's a female?\", 'How many megabytes of data one sheet of A4 paper could hold?', 'Am I in an open relationship?', 'Can we pursue biotechnology after B.tech in mechanical engineering?']\n"
     ]
    }
   ],
   "source": [
    "print(f\"Dataset: {eval_dataset}\")\n",
    "\n",
    "# Print the number of examples in each split\n",
    "print(f\"Train examples: {len([label for label in eval_dataset['label'] if label == ''])}\")\n",
    "print(f\"Test examples: {len(eval_dataset['sentence1'])}\")\n",
    "\n",
    "# Print the first few samples from the dataset\n",
    "# print(eval_dataset['label'][0])\n",
    "\n",
    "# Get the dataset info\n",
    "dataset_info = eval_dataset.info\n",
    "# print(f\"Dataset Info: {dataset_info}\")\n",
    "print(eval_dataset['sentence1'][:10])"
   ]
  },
  {
   "cell_type": "code",
   "execution_count": null,
   "metadata": {},
   "outputs": [],
   "source": []
  },
  {
   "cell_type": "code",
   "execution_count": 15,
   "metadata": {},
   "outputs": [
    {
     "name": "stdout",
     "output_type": "stream",
     "text": [
      "max_ap\n",
      "{'quora-duplicates-dev_cosine_accuracy': 0.816, 'quora-duplicates-dev_cosine_accuracy_threshold': 0.8351784944534302, 'quora-duplicates-dev_cosine_f1': 0.7526595744680852, 'quora-duplicates-dev_cosine_f1_threshold': 0.7715297937393188, 'quora-duplicates-dev_cosine_precision': 0.6581395348837209, 'quora-duplicates-dev_cosine_recall': 0.8788819875776398, 'quora-duplicates-dev_cosine_ap': 0.760277070888393, 'quora-duplicates-dev_dot_accuracy': 0.816, 'quora-duplicates-dev_dot_accuracy_threshold': 0.8351784944534302, 'quora-duplicates-dev_dot_f1': 0.7526595744680852, 'quora-duplicates-dev_dot_f1_threshold': 0.7715297937393188, 'quora-duplicates-dev_dot_precision': 0.6581395348837209, 'quora-duplicates-dev_dot_recall': 0.8788819875776398, 'quora-duplicates-dev_dot_ap': 0.760277070888393, 'quora-duplicates-dev_manhattan_accuracy': 0.815, 'quora-duplicates-dev_manhattan_accuracy_threshold': 12.072722434997559, 'quora-duplicates-dev_manhattan_f1': 0.7496790757381259, 'quora-duplicates-dev_manhattan_f1_threshold': 15.226879119873047, 'quora-duplicates-dev_manhattan_precision': 0.6389496717724289, 'quora-duplicates-dev_manhattan_recall': 0.906832298136646, 'quora-duplicates-dev_manhattan_ap': 0.7565771267992749, 'quora-duplicates-dev_euclidean_accuracy': 0.816, 'quora-duplicates-dev_euclidean_accuracy_threshold': 0.5741453170776367, 'quora-duplicates-dev_euclidean_f1': 0.7526595744680852, 'quora-duplicates-dev_euclidean_f1_threshold': 0.6759734153747559, 'quora-duplicates-dev_euclidean_precision': 0.6581395348837209, 'quora-duplicates-dev_euclidean_recall': 0.8788819875776398, 'quora-duplicates-dev_euclidean_ap': 0.760277070888393, 'quora-duplicates-dev_max_accuracy': 0.816, 'quora-duplicates-dev_max_accuracy_threshold': 12.072722434997559, 'quora-duplicates-dev_max_f1': 0.7526595744680852, 'quora-duplicates-dev_max_f1_threshold': 15.226879119873047, 'quora-duplicates-dev_max_precision': 0.6581395348837209, 'quora-duplicates-dev_max_recall': 0.906832298136646, 'quora-duplicates-dev_max_ap': 0.760277070888393}\n"
     ]
    }
   ],
   "source": [
    "# Load model directly\n",
    "from transformers import AutoTokenizer, AutoModelForPreTraining\n",
    "\n",
    "tokenizer = AutoTokenizer.from_pretrained(\"classla/bcms-bertic\")\n",
    "model = AutoModelForPreTraining.from_pretrained(\"classla/bcms-bertic\")\n",
    "\n",
    "# Load a dataset with two text columns and a class label column (https://huggingface.co/datasets/sentence-transformers/quora-duplicates)\n",
    "# eval_dataset = load_dataset(\"sentence-transformers/quora-duplicates\", \"pair-class\", split=\"train[-1000:]\")\n",
    "eval_dataset = load_dataset('gordicaleksa/serbian-llm-eval-v1')\n",
    "\n",
    "# Initialize the evaluator\n",
    "binary_acc_evaluator = BinaryClassificationEvaluator(\n",
    "    sentences1=eval_dataset[\"sentence1\"],\n",
    "    sentences2=eval_dataset[\"sentence2\"],\n",
    "    labels=eval_dataset[\"label\"],\n",
    "    name=\"quora-duplicates-dev\",\n",
    ")\n",
    "print(binary_acc_evaluator.primary_metric)\n",
    "# => \"quora-duplicates-dev_max_ap\"\n",
    "print(results)\n"
   ]
  },
  {
   "cell_type": "code",
   "execution_count": null,
   "metadata": {},
   "outputs": [],
   "source": []
  },
  {
   "cell_type": "code",
   "execution_count": null,
   "metadata": {},
   "outputs": [],
   "source": []
  }
 ],
 "metadata": {
  "kernelspec": {
   "display_name": ".venv",
   "language": "python",
   "name": "python3"
  },
  "language_info": {
   "codemirror_mode": {
    "name": "ipython",
    "version": 3
   },
   "file_extension": ".py",
   "mimetype": "text/x-python",
   "name": "python",
   "nbconvert_exporter": "python",
   "pygments_lexer": "ipython3",
   "version": "3.10.14"
  }
 },
 "nbformat": 4,
 "nbformat_minor": 2
}
